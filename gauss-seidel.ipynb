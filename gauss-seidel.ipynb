{
 "cells": [
  {
   "cell_type": "markdown",
   "metadata": {},
   "source": [
    "<h1 align='center'> Gauss Seidel Method in Finding Root of a Polynomial </h1>\n",
    "<p align='center'>Author: K M Shariat Ullah, Student, Department of Electrical and Electronic Engineering, Shahjalal University of Science and Technology, Sylhet. </p>"
   ]
  },
  {
   "cell_type": "markdown",
   "metadata": {},
   "source": [
    "The Gauss-Seidel Method is used to predict the root of a polynomial numerically. To find the root of a polynomial $f(x)$ we will set its value to $0$ and then compute the value of $x$. The resulting polynomial for $x$ is called $g(x)$. We then take an initial guess for $x$ and iterate over the $g(x)$ function to get the root of the polynomial. This method is vastly used in Power Flow Analysis to predict the roots of a non-linear equation."
   ]
  },
  {
   "cell_type": "markdown",
   "metadata": {},
   "source": [
    "#### Example 1"
   ]
  },
  {
   "cell_type": "markdown",
   "metadata": {},
   "source": [
    "A non linear function $f(x) = x^3 - 6x^2 +9x -4$ is given. Find the roots of the polynomial. "
   ]
  },
  {
   "cell_type": "markdown",
   "metadata": {},
   "source": [
    "To find the roots of this polynomial, let's set the value of $f(x)$ to $0$. $$ x^3 - 6x^2 +9x - 4 =0 $$ $$ \\Rightarrow x = - \\frac{x^3}{9} + \\frac{6x^2}{9} + \\frac{4}{9} $$ $$ \\Rightarrow x = g(x) $$ Now to iterate over this we will take an initial guess $x$ and iterate $k$ times."
   ]
  },
  {
   "cell_type": "code",
   "execution_count": 10,
   "metadata": {},
   "outputs": [
    {
     "name": "stdout",
     "output_type": "stream",
     "text": [
      "Iteration : 1, value : 2.2222222222222223\n",
      "Iteration : 2, value : 2.5172991921963117\n",
      "Iteration : 3, value : 2.8965735380156454\n",
      "Iteration : 4, value : 3.3375752332562136\n",
      "Iteration : 5, value : 3.7397596568068296\n",
      "Iteration : 6, value : 3.956808285479805\n",
      "Iteration : 7, value : 3.9987652699966274\n",
      "Iteration : 8, value : 3.9999989838370356\n",
      "Iteration : 9, value : 3.9999999999993108\n",
      "Iteration : 10, value : 4.000000000000001\n"
     ]
    }
   ],
   "source": [
    "k = int(input(\"Enter number of iterations: \"))\n",
    "x = float(input(\"Enter the value of the initial guess: \"))\n",
    "\n",
    "def g(x):\n",
    "    return (-1/9)*x**3+ (6/9)*x**2 + (4/9)  \n",
    "\n",
    "for i in range(k):\n",
    "    print(f\"Iteration : {i+1}, value : {g(x)}\")\n",
    "    x = g(x)"
   ]
  },
  {
   "cell_type": "markdown",
   "metadata": {},
   "source": [
    "#### Example 2"
   ]
  },
  {
   "cell_type": "markdown",
   "metadata": {},
   "source": [
    "Find the roots of the function $f(x) = x^3 - 6x^2 +9x -4$ use Gauss-Seidel Method. Use acceleration factor to converge more quickly. "
   ]
  },
  {
   "cell_type": "markdown",
   "metadata": {},
   "source": [
    "For acceleration constant $\\alpha >0$ the $$ x_{k+1} = x_{k} + \\alpha [ g(x_{k}) - x_{k}] $$"
   ]
  },
  {
   "cell_type": "code",
   "execution_count": 9,
   "metadata": {},
   "outputs": [
    {
     "name": "stdout",
     "output_type": "stream",
     "text": [
      "Iteration : 1, value : 2.2222222222222223\n",
      "Iteration : 2, value : 2.590211095869532\n",
      "Iteration : 3, value : 3.080147518041641\n",
      "Iteration : 4, value : 3.6156911173182964\n",
      "Iteration : 5, value : 3.951496464613988\n",
      "Iteration : 6, value : 3.9999527690260646\n",
      "Iteration : 7, value : 3.9999968854677492\n",
      "Iteration : 8, value : 3.9999998080497496\n",
      "Iteration : 9, value : 3.9999999879615\n",
      "Iteration : 10, value : 3.9999999992482476\n"
     ]
    }
   ],
   "source": [
    "k = int(input(\"Enter number of iterations: \"))\n",
    "a = float(input(\"Enter the number of acceleration factor: \"))\n",
    "x = float(input(\"Enter the value of the initial guess: \"))\n",
    "\n",
    "def g(x):\n",
    "    return (-1/9)*x**3+ (6/9)*x**2 + (4/9)  \n",
    "\n",
    "for i in range(k):\n",
    "    print(f\"Iteration : {i+1}, value : {g(x)}\")\n",
    "    x = x + a*(g(x)-x)"
   ]
  }
 ],
 "metadata": {
  "kernelspec": {
   "display_name": "Python 3",
   "language": "python",
   "name": "python3"
  },
  "language_info": {
   "codemirror_mode": {
    "name": "ipython",
    "version": 3
   },
   "file_extension": ".py",
   "mimetype": "text/x-python",
   "name": "python",
   "nbconvert_exporter": "python",
   "pygments_lexer": "ipython3",
   "version": "3.12.2"
  }
 },
 "nbformat": 4,
 "nbformat_minor": 2
}
